{
 "cells": [
  {
   "cell_type": "markdown",
   "metadata": {},
   "source": [
    "## Formula de la distribución normal 1\n",
    "\n",
    "## $P(x,\\sigma,\\mu)= \\frac{ 1 }{\\sigma{\\sqrt{2\\pi}}}e^{-(x-\\mu)^2/2\\sigma^2}$\n"
   ]
  },
  {
   "cell_type": "markdown",
   "metadata": {},
   "source": [
    "## Formula de la distribución normal forma 2\n",
    "\n",
    "## $P(x,\\sigma,\\mu)=\\left(\\frac{1}{\\sigma\\sqrt2\\pi}\\right)e^{\\frac{-(x-\\mu)^2}{2\\sigma^2}}$"
   ]
  }
 ],
 "metadata": {
  "kernelspec": {
   "display_name": "Python 3",
   "language": "python",
   "name": "python3"
  },
  "language_info": {
   "codemirror_mode": {
    "name": "ipython",
    "version": 3
   },
   "file_extension": ".py",
   "mimetype": "text/x-python",
   "name": "python",
   "nbconvert_exporter": "python",
   "pygments_lexer": "ipython3",
   "version": "3.4.3"
  }
 },
 "nbformat": 4,
 "nbformat_minor": 0
}
